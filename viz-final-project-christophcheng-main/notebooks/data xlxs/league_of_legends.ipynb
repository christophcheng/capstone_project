{
 "cells": [
  {
   "cell_type": "code",
   "execution_count": 1,
   "metadata": {},
   "outputs": [],
   "source": [
    "# disable warnings up front for a cleaner experience\n",
    "import warnings\n",
    "warnings.simplefilter(action='ignore', category=FutureWarning)\n",
    " "
   ]
  },
  {
   "cell_type": "markdown",
   "metadata": {},
   "source": [
    "# League of Legends\n",
    "\n",
    "*League of Legends* or *LoL* is a MOBA developed by Riot Games, captivating players with its strategic gameplay and vibrant esports scene. Originating as a standalone title, it has grown to become one of the most prominent games globally. The pinnacle of competitive play in League of Legends is the *World Championship* (Worlds) an annual tournament that draws attention from millions of fans. The prize pool fluctuates, with the champions taking home substantial amounts (e.g., $2.34 million in 2022, $2.34 million in 2021, $2.34 million in 2019, etc.). Teams vie for a spot in Worlds through regional leagues and qualifiers.\n",
    "\n",
    "League of Legends is renowned for its depth and demanding learning curve. The game has a roster of over 150 champions, each equipped with a unique set of abilities. Teams are composed of five champions each, and with a multitude of items and strategic choices, the potential combinations are staggering. The complexity amplifies when considering lane assignments, itemization strategies, and other tactical nuances. Mastering League of Legends requires an extensive understanding of the game's intricacies, in addition to the mechanical skills required to control a champion, collaborate with teammates, and adapt to opponents' strategies.\n",
    "\n",
    "Attempting to quantify the game's complexity and meta is a formidable task, yet we can gain insights by analyzing extensive match data from the World Championship throughout the years.\n",
    "The website [Game of League Esports](https://gol.gg/esports/home/) has an immense amount of data regarding almost all professional LoL Tournaments. While most of the data is free, the website does have premium options for more data such as betting, and analytical information. \n",
    "\n",
    "I am going to use the match data from the World Championship Series and focusing on the World Championship 2023 Series that just concluded in November:\n",
    "\n",
    "* [World Championship 2015](https://gol.gg/champion/list/season-S5/split-ALL/tournament-World%20Championship%202015/) (2015-10-01 - 2015-10-31)\n",
    "* [World Championship 2016](https://gol.gg/champion/list/season-S6/split-ALL/tournament-World%20Championship%202016/) (2016-09-29 - 2016-10-29)\n",
    "* [World Championship 2017](https://gol.gg/champion/list/season-S7/split-ALL/tournament-World%20Championship%202017/) (2017-09-23 - 2017-11-04)\n",
    "* [World Championship 2018](https://gol.gg/champion/list/season-S8/split-ALL/tournament-World%20Championship%202018/) (2018-10-01 - 2018-11-03)\n",
    "* [World Championship 2019](https://gol.gg/champion/list/season-S9/split-ALL/tournament-World%20Championship%202019/) (2019-10-02 - 2019-11-10)\n",
    "* [World Championship 2020](https://gol.gg/champion/list/season-S10/split-ALL/tournament-World%20Championship%202020/) (2020-09-25 - 2020-10-31)\n",
    "* [World Championship 2021](https://gol.gg/champion/list/season-S11/split-ALL/tournament-World%20Championship%202021/) (2021-10-05 - 2021-11-06)\n",
    "* [World Championship 2022](https://gol.gg/champion/list/season-S12/split-ALL/tournament-World%20Championship%202022/) (2022-09-29 - 2022-11-05)\n",
    "* [Worlds Main Event 2023](https://gol.gg/champion/list/season-ALL/split-ALL/tournament-Worlds%20Main%20Event%202023/) (2023-10-10 - 2023-11-19)\n",
    "\n",
    "We also have a file that shows data regarding the Top Laners in the Worlds Main Event 2023 that will be used to observe the differences in the professional players for this tournament.\n",
    "* [Worlds Main Event 2023 Top Lane](https://gol.gg/players/list/season-S13/split-ALL/tournament-Worlds%20Main%20Event%202023/)\n",
    "\n",
    "There is one more file that shows all matches played in the Worlds Main Event 2023, specifically the teams that played, the winning team, and the champions picked by each team.\n",
    "* [2023 Season World Champion/Main Event](https://lol.fandom.com/Special:RunQuery/MatchHistoryGame?MHG%5Bpreload%5D=Tournament&MHG%5Btextonly%5D=Yes&MHG%5Bspl%5D=yes&MHG%5Btournament%5D=2023%20Season%20World%20Championship/Main%20Event&_run=)\n",
    "\n",
    "Code is provided under the `lol` directory so as to keep this notebook slimmer."
   ]
  },
  {
   "cell_type": "markdown",
   "metadata": {},
   "source": [
    "## The Data\n",
    "\n",
    "We will load all of the tournament data and concatenate them into a single, monolithic dataframe. We will also load the hero data used to augment the match data."
   ]
  },
  {
   "cell_type": "code",
   "execution_count": 2,
   "metadata": {},
   "outputs": [
    {
     "ename": "ModuleNotFoundError",
     "evalue": "No module named 'lol'",
     "output_type": "error",
     "traceback": [
      "\u001b[1;31m---------------------------------------------------------------------------\u001b[0m",
      "\u001b[1;31mModuleNotFoundError\u001b[0m                       Traceback (most recent call last)",
      "Cell \u001b[1;32mIn[2], line 1\u001b[0m\n\u001b[1;32m----> 1\u001b[0m \u001b[38;5;28;01mimport\u001b[39;00m \u001b[38;5;21;01mlol\u001b[39;00m \n\u001b[0;32m      2\u001b[0m champs \u001b[38;5;241m=\u001b[39m lol\u001b[38;5;241m.\u001b[39mget_champ_data()\n\u001b[0;32m      3\u001b[0m top_lane \u001b[38;5;241m=\u001b[39m lol\u001b[38;5;241m.\u001b[39mget_top_data()\n",
      "\u001b[1;31mModuleNotFoundError\u001b[0m: No module named 'lol'"
     ]
    }
   ],
   "source": [
    "import lol \n",
    "champs = lol.get_champ_data()\n",
    "top_lane = lol.get_top_data()"
   ]
  },
  {
   "cell_type": "code",
   "execution_count": null,
   "metadata": {},
   "outputs": [],
   "source": [
    "champs.info()"
   ]
  },
  {
   "cell_type": "code",
   "execution_count": null,
   "metadata": {},
   "outputs": [],
   "source": [
    "champs.sample()"
   ]
  },
  {
   "cell_type": "code",
   "execution_count": null,
   "metadata": {},
   "outputs": [],
   "source": [
    "top_lane.info()"
   ]
  },
  {
   "cell_type": "code",
   "execution_count": null,
   "metadata": {},
   "outputs": [],
   "source": [
    "top_lane.sample()"
   ]
  },
  {
   "cell_type": "markdown",
   "metadata": {},
   "source": [
    "I will first start with the `champs` data. The Data Frame contains a significant amount of data; however, I am going to focus on the `picks` column and `bans` column as well as the `winrate` column. "
   ]
  },
  {
   "cell_type": "markdown",
   "metadata": {},
   "source": [
    "## The Draft Phase (Picks & Bans)\n",
    "\n",
    "I will start by looking at the presense of the champions. In a professional match of League of Legends, the teams take turns banning and choosing champions. This part of the match is called the *draft phase*. When a champion is banned, neither team is allowed to select this champion. This is the same for when a team selects a champion too (there are no duplicate champions allowed). I am looking to see which champions are deemed to be more vaulable compared to others. Thus, I will be looking at the Presence column. This column shows the percentage that the champion was present in all of the drafts.\n",
    "\n",
    "In the `Picks` and `Bans` columns, it shows the number of times a champion was picked or banned during the draft phase. We can also observe this data to see how much priority a champion had during the World Championships and how this changed throughout the years.\n",
    "\n",
    "To begin I will filter the data and sort it by only looking at the `Presense`, `Picks`, `Bans`, and `Year` columns."
   ]
  },
  {
   "cell_type": "code",
   "execution_count": null,
   "metadata": {},
   "outputs": [],
   "source": [
    "import pandas as pd\n",
    "\n",
    "# pulling the columns that I need for my plot\n",
    "presence_data = champs.loc[:,('Champion', 'Picks', 'Bans', 'Presence', 'Year')]\n"
   ]
  },
  {
   "cell_type": "markdown",
   "metadata": {},
   "source": [
    "Now that I have the data I need, I am creating a slider so anyone can sort the data as they please."
   ]
  },
  {
   "cell_type": "code",
   "execution_count": null,
   "metadata": {},
   "outputs": [],
   "source": [
    "import panel as pn \n",
    "\n",
    "# changing 'Presence' column to an integer type and removing the '%' symbol\n",
    "presence_data['Presence'] = presence_data['Presence'].str.replace('%', ' ').astype(int)\n",
    "\n",
    "# creating the tabulator for the presence_data\n",
    "presence_data_tb = pn.widgets.Tabulator(\n",
    "    presence_data,\n",
    "    page_size=15,\n",
    "    pagination='local',\n",
    "    selectable=False,\n",
    "    disabled=False\n",
    ")\n",
    "# provide a slider to filter out heroes with low presence counts\n",
    "pick_slider = pn.widgets.IntSlider(\n",
    "    name='Minimum Presence',\n",
    "    start=0,\n",
    "    end=int(presence_data.Presence.max()),\n",
    "    step=1\n",
    ")\n",
    "\n",
    "@pn.depends(pick_slider, watch=True)\n",
    "def filtered_champ_picks(value):\n",
    "    presence_data_tb._filters = []\n",
    "    presence_data_tb.add_filter((value, pick_slider.end), 'Presence')\n",
    "\n",
    "pn.Column(pick_slider, presence_data_tb)\n"
   ]
  },
  {
   "cell_type": "markdown",
   "metadata": {},
   "source": [
    "If you sort the Dataframe by highest to lowest Presence you can see that most of the champions who have a high presence have more bans than picks. The reason for their high presence in the World Championship is due to teams being afraid to play against these champions so they ban it instead of trying to counter pick it. \n",
    "\n",
    "Looking at the 5 champions with 100% presence, we can see that two of them, Kalista and Pantheon, have a 100% ban rate. This means that these champions were banned every single game at the World Championship. They were never picked, and never not banned. "
   ]
  },
  {
   "cell_type": "code",
   "execution_count": null,
   "metadata": {},
   "outputs": [],
   "source": [
    "import pandas as pd\n",
    "import holoviews as hv\n",
    "import hvplot.pandas\n",
    "import panel as pn\n",
    "\n",
    "def scatter_plot(champion):\n",
    "    selected_data = presence_data[presence_data['Champion'] == champion].copy()\n",
    "\n",
    "# scale the size of Presence by an addition 1000 due to the small sizing of the data points with regular Presense size.\n",
    "    selected_data['Scaled_Presence'] = selected_data['Presence'] + 1000\n",
    "\n",
    "    plot = selected_data.hvplot.scatter(\n",
    "        x='Picks',\n",
    "        y='Bans',\n",
    "        s='Scaled_Presence',\n",
    "        c='Year',\n",
    "        cmap='viridis',\n",
    "        clabel='By Year',\n",
    "        hover_cols=['Champion']\n",
    "    ).opts(\n",
    "        xlim=(-5,60),\n",
    "        ylim=(-5,80),\n",
    "        clim=(2015, 2023),\n",
    "        title=f'Presence of {champion} in World Championship',\n",
    "        xlabel='Picks',\n",
    "        ylabel='Bans',\n",
    "        height=450,\n",
    "        width=800,\n",
    "    )\n",
    "    return plot\n",
    "\n",
    "champion_names = sorted(presence_data['Champion'].unique())\n",
    "\n",
    "champion_selector = pn.widgets.Select(options=champion_names, name='Select Champion')\n",
    "\n",
    "@pn.depends(champion=champion_selector.param.value)\n",
    "def update_plot(champion):\n",
    "    return scatter_plot(champion)\n",
    "\n",
    "graph = pn.Row(\n",
    "    pn.Column(champion_selector),\n",
    "    pn.Column(update_plot)\n",
    ")\n",
    "\n",
    "graph\n"
   ]
  },
  {
   "cell_type": "markdown",
   "metadata": {},
   "source": [
    "When using the above Champion Selector, you can see the `Picks` and `Bans` for each champion. They are color coded by the `Year` of the World Championship. For some champions, there are multiple circles overlapping due to them having the same 0 `Picks` and `Bans`, thus meaning 0 `Presence`. We do notice that the further a champ is to the top or right of the graph, the higher the Presence is for that champion. When hovering over the points, you can see the specific data of that champion. I had to scale the Presence by an additional 1000 (`Scaled_Presence`) due to the data points being too small when it's scaled by the Presence Column."
   ]
  },
  {
   "cell_type": "markdown",
   "metadata": {},
   "source": [
    "## Best Top Laner of World Championship 2023 \n",
    "\n",
    "In League of Legends, there are three lanes: Top, Middle, and Bottom. In this years World Championship, there was a lot of press and talk about the Top Lane players. Specifically, a Korean Top Laner by the name of Zeus. Everyone was discussing how he was dominating every player he came across throughout the tournament. His team ended up winning the World Championship and he was given the Player MVP Trophy.\n",
    "\n",
    "So, I will be looking at all of the Top Laners in the 2023 World Championship Tournament and comparing their statistics to Zeus' to see if he was dominating like the press and media said. "
   ]
  },
  {
   "cell_type": "code",
   "execution_count": null,
   "metadata": {},
   "outputs": [],
   "source": [
    "# removing the percentage symbol from winrate and changing it to a numeric string type\n",
    "top_lane['Win rate'] = pd.to_numeric(top_lane['Win rate'].str.replace('%', ''))\n",
    "\n",
    "# creating the tabulator for the top_lane data\n",
    "top_lane_tb = pn.widgets.Tabulator(\n",
    "    top_lane,\n",
    "    pagination='local',\n",
    "    selectable=False,\n",
    "    disabled=False\n",
    ")\n",
    "# provide a slider to filter out low KDA\n",
    "top_slider = pn.widgets.FloatSlider(\n",
    "    name='Kill Death Assist',\n",
    "    start=0,\n",
    "    end=float(top_lane.KDA.max()),\n",
    "    step=0.1\n",
    ")\n",
    "\n",
    "@pn.depends(top_slider, watch=True)\n",
    "def filtered_top_picks(value):\n",
    "    top_lane_tb._filters = []\n",
    "    top_lane_tb.add_filter((value, top_slider.end), 'KDA')\n",
    "\n",
    "pn.Column(top_slider, top_lane_tb)\n"
   ]
  },
  {
   "cell_type": "markdown",
   "metadata": {},
   "source": [
    "The above data frame has a slider where you can sort by Kill Death Assist (KDA). KDA means the ratio of the sum of kills and assists, over deaths. Obviously, a player would want higher kills/assists than deaths in any game. We can see that most of the players have a KDA in the range 2-3 give or take. However, when looking at Zeus' KDA at a score of 5.0, this is an example of how dominate he really was. This means that for every 5 kills he got, he only died 1 time. Comparing this to the other players, who have around a 2-3 KDA, this means thats they only got 2-3 kills per 1 death. Zeus' KDA is doubled compared to some of the other players.\n",
    "\n",
    "I will now make a plot comparing the Gold per Minute (GPM) and Creep Score per Minute (CSM). "
   ]
  },
  {
   "cell_type": "code",
   "execution_count": null,
   "metadata": {},
   "outputs": [],
   "source": [
    "# making scatter plot of top laners\n",
    "top_data = top_lane.hvplot.scatter(\n",
    "        x='GPM',\n",
    "        y='CSM',\n",
    "        s=1000,\n",
    "        c='Win rate',\n",
    "        cmap='plasma',\n",
    "        clabel='Win Rate',\n",
    "        hover_cols=['Player']\n",
    "    ).opts(\n",
    "        xlim=(350,460),\n",
    "        ylim=(7,9.5),\n",
    "        clim=(0.00, 100.00),\n",
    "        title=f'GPM and CSM effect on Win Rate',\n",
    "        xlabel='Gold Per Minute',\n",
    "        ylabel='Creep Score Per Minute',\n",
    "        height=480,\n",
    "        width=900,\n",
    "    )\n",
    "\n",
    "top_data"
   ]
  },
  {
   "cell_type": "markdown",
   "metadata": {},
   "source": [
    "From this graph, we can clearly see that Zeus did indeed dominate his competitors. All of the other players are all grouped near each other whereas Zeus is all the way in the top right of the graph. This is mainly due to his amount of Gold per Minute which is an additional 49 gold above the next closest player. Also, looking at the win rate of the players, they all are a purple/pink hue whereas Zeus is a yellow color. This is due to his win rate being significantly higher compared to the other players. \n",
    "\n",
    "Even when looking at other statistics in the data frame above, we can see that Zeus is in the top 3 of all the good statistics such as DPM (Damage per Minute), GD@15 (Average Gold Differential at 15 minutes), CSD@15 (Average CS Score at 15 minutes), and Solo Kills. All of these statistics are focused on the individual and not the team. The teammates have a minor effect on this data compared to the player, who is the primary factor influencing it."
   ]
  },
  {
   "cell_type": "markdown",
   "metadata": {},
   "source": [
    "## Conclusion\n",
    "\n",
    "In this notebook, we have looked at the statistics of champion data through the League of Legends World Championships from 2015-2023. Despite this being the most important tournament in the world, there are many other smaller and regional tournaments that were not looked at. The champion data over the past 9 years has provided us with some insight on which characters are more important in the World Championship meta, as well as which champions are neglected and never played. \n",
    "\n",
    "We also took a look at the Top Lane Players in the 2023 World Championship tournament, where we saw that 1 player (Zeus) stood out compared to the rest. Because of his amazing performances and large player gap, it is clear to anyone that he deserved to win the 2023 MVP Trophy. This process can be similarly done to all lanes and players throughout all of the World Championships."
   ]
  },
  {
   "cell_type": "code",
   "execution_count": null,
   "metadata": {},
   "outputs": [],
   "source": []
  }
 ],
 "metadata": {
  "kernelspec": {
   "display_name": "Python 3 (ipykernel)",
   "language": "python",
   "name": "python3"
  },
  "language_info": {
   "codemirror_mode": {
    "name": "ipython",
    "version": 3
   },
   "file_extension": ".py",
   "mimetype": "text/x-python",
   "name": "python",
   "nbconvert_exporter": "python",
   "pygments_lexer": "ipython3",
   "version": "3.11.6"
  }
 },
 "nbformat": 4,
 "nbformat_minor": 4
}
